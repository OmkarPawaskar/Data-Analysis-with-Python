{
 "cells": [
  {
   "cell_type": "code",
   "execution_count": 1,
   "id": "5a137e52",
   "metadata": {},
   "outputs": [],
   "source": [
    "import os\n",
    "import json\n",
    "import gzip\n",
    "import pandas as pd\n",
    "from datetime import datetime"
   ]
  },
  {
   "cell_type": "code",
   "execution_count": 2,
   "id": "f76e16c7",
   "metadata": {},
   "outputs": [
    {
     "name": "stdout",
     "output_type": "stream",
     "text": [
      "['222qnhjnpu4tjmfbvsj2mvnsye.json.gz', 'yk5uuzph7m4l7fjzt6ymrci3fe.json.gz']\n"
     ]
    }
   ],
   "source": [
    "path_to_json = 'input/'\n",
    "json_files = [pos_json for pos_json in os.listdir(path_to_json) if pos_json.endswith('.json.gz')]\n",
    "print(json_files)"
   ]
  },
  {
   "cell_type": "code",
   "execution_count": 59,
   "id": "8935ace5",
   "metadata": {},
   "outputs": [],
   "source": [
    "new_dict = {'vin' : [], 'timestamp' : [], 'status' : [], 'logs' : []}\n",
    "for index, js in enumerate(json_files):\n",
    "    with gzip.open(os.path.join(path_to_json, js), 'rb') as json_file:\n",
    "        df = pd.read_json(json_file, lines=True)\n",
    "        for f in df['Item']:\n",
    "            new_dict['vin'].append(f['vin']['S'])\n",
    "            new_dict['timestamp'].append(datetime.fromtimestamp(int(f['timestamp']['N'])/1000).strftime('%Y-%m-%d %H:%M:%S'))\n",
    "            new_dict['status'].append(json.loads(f['value']['S']))\n",
    "            new_dict['logs'].append(json.loads(f['value']['S']))\n",
    "\n"
   ]
  },
  {
   "cell_type": "code",
   "execution_count": 295,
   "id": "9cfbda1b",
   "metadata": {},
   "outputs": [
    {
     "data": {
      "text/html": [
       "<div>\n",
       "<style scoped>\n",
       "    .dataframe tbody tr th:only-of-type {\n",
       "        vertical-align: middle;\n",
       "    }\n",
       "\n",
       "    .dataframe tbody tr th {\n",
       "        vertical-align: top;\n",
       "    }\n",
       "\n",
       "    .dataframe thead th {\n",
       "        text-align: right;\n",
       "    }\n",
       "</style>\n",
       "<table border=\"1\" class=\"dataframe\">\n",
       "  <thead>\n",
       "    <tr style=\"text-align: right;\">\n",
       "      <th></th>\n",
       "      <th>vin</th>\n",
       "      <th>timestamp</th>\n",
       "      <th>status</th>\n",
       "      <th>logs</th>\n",
       "    </tr>\n",
       "  </thead>\n",
       "  <tbody>\n",
       "    <tr>\n",
       "      <th>0</th>\n",
       "      <td>7039ef07e48e5d99cbd0435cf35d1eb7</td>\n",
       "      <td>2021-07-16 13:59:49</td>\n",
       "      <td>{'clientTS': 1626424189364, 'status': 'ERROR',...</td>\n",
       "      <td>{'clientTS': 1626424189364, 'status': 'ERROR',...</td>\n",
       "    </tr>\n",
       "    <tr>\n",
       "      <th>1</th>\n",
       "      <td>49fb42a88818ab4ff2fd79fc4b2b5937</td>\n",
       "      <td>2021-09-01 15:46:22</td>\n",
       "      <td>{'clientTS': 1630491382330, 'status': 'ERROR',...</td>\n",
       "      <td>{'clientTS': 1630491382330, 'status': 'ERROR',...</td>\n",
       "    </tr>\n",
       "    <tr>\n",
       "      <th>2</th>\n",
       "      <td>0d35e283af5fa8f665ea471572ca5dfb</td>\n",
       "      <td>2021-11-18 14:51:21</td>\n",
       "      <td>{'clientTS': 1637227281690, 'status': 'ERROR',...</td>\n",
       "      <td>{'clientTS': 1637227281690, 'status': 'ERROR',...</td>\n",
       "    </tr>\n",
       "    <tr>\n",
       "      <th>3</th>\n",
       "      <td>55d4159eabe7cdd350a45a9f275d457d</td>\n",
       "      <td>2021-07-09 11:52:04</td>\n",
       "      <td>{'clientTS': 1625811724877, 'status': 'ERROR',...</td>\n",
       "      <td>{'clientTS': 1625811724877, 'status': 'ERROR',...</td>\n",
       "    </tr>\n",
       "    <tr>\n",
       "      <th>4</th>\n",
       "      <td>abc25ab26bb95250d431abb60db79cba</td>\n",
       "      <td>2021-09-18 20:17:40</td>\n",
       "      <td>{'clientTS': 1631976460633, 'status': 'ERROR',...</td>\n",
       "      <td>{'clientTS': 1631976460633, 'status': 'ERROR',...</td>\n",
       "    </tr>\n",
       "    <tr>\n",
       "      <th>...</th>\n",
       "      <td>...</td>\n",
       "      <td>...</td>\n",
       "      <td>...</td>\n",
       "      <td>...</td>\n",
       "    </tr>\n",
       "    <tr>\n",
       "      <th>288630</th>\n",
       "      <td>c747664a6fe4d77f5d53fd44a46e7dd3</td>\n",
       "      <td>2021-10-14 19:18:19</td>\n",
       "      <td>{'clientTS': 1634219299080, 'status': 'ERROR',...</td>\n",
       "      <td>{'clientTS': 1634219299080, 'status': 'ERROR',...</td>\n",
       "    </tr>\n",
       "    <tr>\n",
       "      <th>288631</th>\n",
       "      <td>a3672ed6dd0cc3e5aec52bb848644a5a</td>\n",
       "      <td>2021-08-11 20:30:10</td>\n",
       "      <td>{'clientTS': 1628694010985, 'status': 'ERROR',...</td>\n",
       "      <td>{'clientTS': 1628694010985, 'status': 'ERROR',...</td>\n",
       "    </tr>\n",
       "    <tr>\n",
       "      <th>288632</th>\n",
       "      <td>85bb89817da3ed912b4fc8300f74e0c4</td>\n",
       "      <td>2021-10-13 15:48:05</td>\n",
       "      <td>{'clientTS': 1634120285599, 'status': 'ERROR',...</td>\n",
       "      <td>{'clientTS': 1634120285599, 'status': 'ERROR',...</td>\n",
       "    </tr>\n",
       "    <tr>\n",
       "      <th>288633</th>\n",
       "      <td>9a970333a24f1ca4e58b7ef9fcb484af</td>\n",
       "      <td>2021-11-12 16:17:07</td>\n",
       "      <td>{'clientTS': 1636714027312, 'status': 'ERROR',...</td>\n",
       "      <td>{'clientTS': 1636714027312, 'status': 'ERROR',...</td>\n",
       "    </tr>\n",
       "    <tr>\n",
       "      <th>288634</th>\n",
       "      <td>c9db32b58cb6345f2326dc21f09bfc31</td>\n",
       "      <td>2021-08-06 22:00:45</td>\n",
       "      <td>{'clientTS': 1628267445630, 'status': 'ERROR',...</td>\n",
       "      <td>{'clientTS': 1628267445630, 'status': 'ERROR',...</td>\n",
       "    </tr>\n",
       "  </tbody>\n",
       "</table>\n",
       "<p>288635 rows × 4 columns</p>\n",
       "</div>"
      ],
      "text/plain": [
       "                                     vin            timestamp  \\\n",
       "0       7039ef07e48e5d99cbd0435cf35d1eb7  2021-07-16 13:59:49   \n",
       "1       49fb42a88818ab4ff2fd79fc4b2b5937  2021-09-01 15:46:22   \n",
       "2       0d35e283af5fa8f665ea471572ca5dfb  2021-11-18 14:51:21   \n",
       "3       55d4159eabe7cdd350a45a9f275d457d  2021-07-09 11:52:04   \n",
       "4       abc25ab26bb95250d431abb60db79cba  2021-09-18 20:17:40   \n",
       "...                                  ...                  ...   \n",
       "288630  c747664a6fe4d77f5d53fd44a46e7dd3  2021-10-14 19:18:19   \n",
       "288631  a3672ed6dd0cc3e5aec52bb848644a5a  2021-08-11 20:30:10   \n",
       "288632  85bb89817da3ed912b4fc8300f74e0c4  2021-10-13 15:48:05   \n",
       "288633  9a970333a24f1ca4e58b7ef9fcb484af  2021-11-12 16:17:07   \n",
       "288634  c9db32b58cb6345f2326dc21f09bfc31  2021-08-06 22:00:45   \n",
       "\n",
       "                                                   status  \\\n",
       "0       {'clientTS': 1626424189364, 'status': 'ERROR',...   \n",
       "1       {'clientTS': 1630491382330, 'status': 'ERROR',...   \n",
       "2       {'clientTS': 1637227281690, 'status': 'ERROR',...   \n",
       "3       {'clientTS': 1625811724877, 'status': 'ERROR',...   \n",
       "4       {'clientTS': 1631976460633, 'status': 'ERROR',...   \n",
       "...                                                   ...   \n",
       "288630  {'clientTS': 1634219299080, 'status': 'ERROR',...   \n",
       "288631  {'clientTS': 1628694010985, 'status': 'ERROR',...   \n",
       "288632  {'clientTS': 1634120285599, 'status': 'ERROR',...   \n",
       "288633  {'clientTS': 1636714027312, 'status': 'ERROR',...   \n",
       "288634  {'clientTS': 1628267445630, 'status': 'ERROR',...   \n",
       "\n",
       "                                                     logs  \n",
       "0       {'clientTS': 1626424189364, 'status': 'ERROR',...  \n",
       "1       {'clientTS': 1630491382330, 'status': 'ERROR',...  \n",
       "2       {'clientTS': 1637227281690, 'status': 'ERROR',...  \n",
       "3       {'clientTS': 1625811724877, 'status': 'ERROR',...  \n",
       "4       {'clientTS': 1631976460633, 'status': 'ERROR',...  \n",
       "...                                                   ...  \n",
       "288630  {'clientTS': 1634219299080, 'status': 'ERROR',...  \n",
       "288631  {'clientTS': 1628694010985, 'status': 'ERROR',...  \n",
       "288632  {'clientTS': 1634120285599, 'status': 'ERROR',...  \n",
       "288633  {'clientTS': 1636714027312, 'status': 'ERROR',...  \n",
       "288634  {'clientTS': 1628267445630, 'status': 'ERROR',...  \n",
       "\n",
       "[288635 rows x 4 columns]"
      ]
     },
     "execution_count": 295,
     "metadata": {},
     "output_type": "execute_result"
    }
   ],
   "source": [
    "df2 = pd.DataFrame.from_dict(new_dict)\n",
    "df2"
   ]
  },
  {
   "cell_type": "code",
   "execution_count": 296,
   "id": "1df770d2",
   "metadata": {},
   "outputs": [],
   "source": [
    "df2['status'] = [f['status'] for f in df2['status']]\n",
    "df2['logs'] = [f['logs'] for f in df2['logs']]"
   ]
  },
  {
   "cell_type": "code",
   "execution_count": 297,
   "id": "54ef0b59",
   "metadata": {},
   "outputs": [],
   "source": [
    "df2 = df2[df2['status'] == \"OK\"]"
   ]
  },
  {
   "cell_type": "markdown",
   "id": "f13a6d95",
   "metadata": {},
   "source": [
    "### Handling Log column to get required result"
   ]
  },
  {
   "cell_type": "code",
   "execution_count": 298,
   "id": "c95e2bef",
   "metadata": {},
   "outputs": [
    {
     "name": "stderr",
     "output_type": "stream",
     "text": [
      "C:\\Users\\OMKARP~1\\AppData\\Local\\Temp/ipykernel_6536/2395685577.py:2: SettingWithCopyWarning: \n",
      "A value is trying to be set on a copy of a slice from a DataFrame.\n",
      "Try using .loc[row_indexer,col_indexer] = value instead\n",
      "\n",
      "See the caveats in the documentation: https://pandas.pydata.org/pandas-docs/stable/user_guide/indexing.html#returning-a-view-versus-a-copy\n",
      "  df2['marked'] = 0\n",
      "C:\\Users\\OMKARP~1\\AppData\\Local\\Temp/ipykernel_6536/2395685577.py:13: SettingWithCopyWarning: \n",
      "A value is trying to be set on a copy of a slice from a DataFrame.\n",
      "Try using .loc[row_indexer,col_indexer] = value instead\n",
      "\n",
      "See the caveats in the documentation: https://pandas.pydata.org/pandas-docs/stable/user_guide/indexing.html#returning-a-view-versus-a-copy\n",
      "  df2['logs'] = new_f\n"
     ]
    }
   ],
   "source": [
    "\n",
    "new_f = []\n",
    "df2['marked'] = 0\n",
    "for f in df2['logs']:\n",
    "    f = f[1]\n",
    "   \n",
    "    if \"ErrorCode::OK\" in f['message']: #filter out rows having 'message': 'Commit is not required in Finalize'\n",
    "        if 'from-map' in f['message']: #handle incorrect rows having from-key and to-key values in 'message' key itself.\n",
    "            f['from-map'] = f['message'].split('from-map',1)[1]\n",
    "            f['to-map'] = f['message'].split('to-map',1)[1]\n",
    "        \n",
    "        #df2.loc(\"420\" in f['from-map'], \"marked\") = 1\n",
    "    new_f.append(f)\n",
    "df2['logs'] = new_f \n",
    "    "
   ]
  },
  {
   "cell_type": "code",
   "execution_count": 299,
   "id": "a157c216",
   "metadata": {},
   "outputs": [
    {
     "data": {
      "text/plain": [
       "5         {'updateMethod': 'OTA', 'message': 'Nds commit...\n",
       "9         {'updateMethod': 'OTA', 'message': 'Nds commit...\n",
       "14        {'updateMethod': 'OTA', 'message': 'Nds commit...\n",
       "17        {'updateMethod': 'OTA', 'message': 'Nds commit...\n",
       "22        {'updateMethod': 'OTA', 'message': 'Commit is ...\n",
       "                                ...                        \n",
       "288593    {'updateMethod': 'OTA', 'message': 'Nds commit...\n",
       "288595    {'updateMethod': 'OTA', 'message': 'Nds commit...\n",
       "288597    {'updateMethod': 'OTA', 'message': 'Nds commit...\n",
       "288598    {'updateMethod': 'OTA', 'message': 'Nds commit...\n",
       "288628    {'updateMethod': 'OTA', 'message': 'Nds commit...\n",
       "Name: logs, Length: 45644, dtype: object"
      ]
     },
     "execution_count": 299,
     "metadata": {},
     "output_type": "execute_result"
    }
   ],
   "source": [
    "df2['logs']"
   ]
  },
  {
   "cell_type": "markdown",
   "id": "ca0562d9",
   "metadata": {},
   "source": [
    "### Delete unnecessary exceptions from dataframe"
   ]
  },
  {
   "cell_type": "code",
   "execution_count": 300,
   "id": "19ec0722",
   "metadata": {},
   "outputs": [
    {
     "name": "stderr",
     "output_type": "stream",
     "text": [
      "e:\\projects\\test\\nev\\lib\\site-packages\\pandas\\core\\frame.py:4906: SettingWithCopyWarning: \n",
      "A value is trying to be set on a copy of a slice from a DataFrame\n",
      "\n",
      "See the caveats in the documentation: https://pandas.pydata.org/pandas-docs/stable/user_guide/indexing.html#returning-a-view-versus-a-copy\n",
      "  return super().drop(\n"
     ]
    }
   ],
   "source": [
    "df2.drop(df2[df2['logs'] == {'updateMethod': 'OTA', 'message': 'Commit is not required in Finalize', 'severity': 0, 'code': '0'}].index, inplace = True)\n",
    "df2.drop(df2[df2['logs'] == {'updateMethod': 'OTA', 'message': 'Finishing commit on startup', 'severity': 0, 'code': '0'}].index, inplace = True)\n",
    "df2.drop(df2[df2['logs'] == {'message': 'Finishing commit on startup', 'severity': 0, 'code': '0'}].index, inplace = True)\n",
    "df2.drop(df2[df2['logs'] == {'message': 'Commit is not required in Finalize', 'severity': 0, 'code': '0'}].index, inplace = True)"
   ]
  },
  {
   "cell_type": "code",
   "execution_count": 301,
   "id": "b8a00bf1",
   "metadata": {},
   "outputs": [
    {
     "data": {
      "text/plain": [
       "5         {'updateMethod': 'OTA', 'message': 'Nds commit...\n",
       "9         {'updateMethod': 'OTA', 'message': 'Nds commit...\n",
       "14        {'updateMethod': 'OTA', 'message': 'Nds commit...\n",
       "17        {'updateMethod': 'OTA', 'message': 'Nds commit...\n",
       "28        {'updateMethod': 'OTA', 'message': 'Nds commit...\n",
       "                                ...                        \n",
       "288593    {'updateMethod': 'OTA', 'message': 'Nds commit...\n",
       "288595    {'updateMethod': 'OTA', 'message': 'Nds commit...\n",
       "288597    {'updateMethod': 'OTA', 'message': 'Nds commit...\n",
       "288598    {'updateMethod': 'OTA', 'message': 'Nds commit...\n",
       "288628    {'updateMethod': 'OTA', 'message': 'Nds commit...\n",
       "Name: logs, Length: 44275, dtype: object"
      ]
     },
     "execution_count": 301,
     "metadata": {},
     "output_type": "execute_result"
    }
   ],
   "source": [
    "df2['logs'] "
   ]
  },
  {
   "cell_type": "markdown",
   "id": "28903b40",
   "metadata": {},
   "source": [
    "### Get records having 420 in \"from-map\" and 570 in \"to-map\" for logs column in dataframe"
   ]
  },
  {
   "cell_type": "code",
   "execution_count": 302,
   "id": "72ad87ec",
   "metadata": {},
   "outputs": [
    {
     "name": "stderr",
     "output_type": "stream",
     "text": [
      "e:\\projects\\test\\nev\\lib\\site-packages\\pandas\\core\\indexing.py:1817: SettingWithCopyWarning: \n",
      "A value is trying to be set on a copy of a slice from a DataFrame.\n",
      "Try using .loc[row_indexer,col_indexer] = value instead\n",
      "\n",
      "See the caveats in the documentation: https://pandas.pydata.org/pandas-docs/stable/user_guide/indexing.html#returning-a-view-versus-a-copy\n",
      "  self._setitem_single_column(loc, value, pi)\n"
     ]
    }
   ],
   "source": [
    "df2.loc[[\"420\" in f['from-map'] and \"570\" in f['to-map'] for f in df2['logs']], \"marked\"] = 1"
   ]
  },
  {
   "cell_type": "code",
   "execution_count": 303,
   "id": "d05314d3",
   "metadata": {},
   "outputs": [
    {
     "data": {
      "text/html": [
       "<div>\n",
       "<style scoped>\n",
       "    .dataframe tbody tr th:only-of-type {\n",
       "        vertical-align: middle;\n",
       "    }\n",
       "\n",
       "    .dataframe tbody tr th {\n",
       "        vertical-align: top;\n",
       "    }\n",
       "\n",
       "    .dataframe thead th {\n",
       "        text-align: right;\n",
       "    }\n",
       "</style>\n",
       "<table border=\"1\" class=\"dataframe\">\n",
       "  <thead>\n",
       "    <tr style=\"text-align: right;\">\n",
       "      <th></th>\n",
       "      <th>vin</th>\n",
       "      <th>timestamp</th>\n",
       "      <th>status</th>\n",
       "      <th>logs</th>\n",
       "      <th>marked</th>\n",
       "    </tr>\n",
       "  </thead>\n",
       "  <tbody>\n",
       "    <tr>\n",
       "      <th>674</th>\n",
       "      <td>9917e48c9cb7f86f86c035c1e2f025d7</td>\n",
       "      <td>2021-07-11 21:35:47</td>\n",
       "      <td>OK</td>\n",
       "      <td>{'updateMethod': 'OTA', 'message': 'Nds commit...</td>\n",
       "      <td>1</td>\n",
       "    </tr>\n",
       "    <tr>\n",
       "      <th>1107</th>\n",
       "      <td>6fefa67e6cb7dcbf4e25ad9cef43cb0b</td>\n",
       "      <td>2021-07-24 17:36:37</td>\n",
       "      <td>OK</td>\n",
       "      <td>{'updateMethod': 'OTA', 'message': 'Nds commit...</td>\n",
       "      <td>1</td>\n",
       "    </tr>\n",
       "    <tr>\n",
       "      <th>3321</th>\n",
       "      <td>8e1fb48db7f9b048d97417b3d3b2d3eb</td>\n",
       "      <td>2021-07-03 22:50:28</td>\n",
       "      <td>OK</td>\n",
       "      <td>{'updateMethod': 'OTA', 'message': 'Nds commit...</td>\n",
       "      <td>1</td>\n",
       "    </tr>\n",
       "    <tr>\n",
       "      <th>3566</th>\n",
       "      <td>a23adb8ffedb11b8ccf0ce4979d7a881</td>\n",
       "      <td>2021-07-09 14:31:01</td>\n",
       "      <td>OK</td>\n",
       "      <td>{'updateMethod': 'OTA', 'message': 'Nds commit...</td>\n",
       "      <td>1</td>\n",
       "    </tr>\n",
       "    <tr>\n",
       "      <th>4445</th>\n",
       "      <td>83654e82edbf19228a013c44158cb2e5</td>\n",
       "      <td>2021-07-22 20:47:29</td>\n",
       "      <td>OK</td>\n",
       "      <td>{'updateMethod': 'OTA', 'message': 'Nds commit...</td>\n",
       "      <td>1</td>\n",
       "    </tr>\n",
       "    <tr>\n",
       "      <th>...</th>\n",
       "      <td>...</td>\n",
       "      <td>...</td>\n",
       "      <td>...</td>\n",
       "      <td>...</td>\n",
       "      <td>...</td>\n",
       "    </tr>\n",
       "    <tr>\n",
       "      <th>281100</th>\n",
       "      <td>fc0816527e2c73ea73657f0134575fe5</td>\n",
       "      <td>2021-07-08 09:21:20</td>\n",
       "      <td>OK</td>\n",
       "      <td>{'updateMethod': 'OTA', 'message': 'Nds commit...</td>\n",
       "      <td>1</td>\n",
       "    </tr>\n",
       "    <tr>\n",
       "      <th>282585</th>\n",
       "      <td>e8c373b2608b7eb624ae91a65f517209</td>\n",
       "      <td>2021-07-10 18:04:09</td>\n",
       "      <td>OK</td>\n",
       "      <td>{'updateMethod': 'OTA', 'message': 'Nds commit...</td>\n",
       "      <td>1</td>\n",
       "    </tr>\n",
       "    <tr>\n",
       "      <th>286348</th>\n",
       "      <td>b9d92a7204003141ca7e9e7ffbef9c8e</td>\n",
       "      <td>2021-07-16 13:25:05</td>\n",
       "      <td>OK</td>\n",
       "      <td>{'updateMethod': 'OTA', 'message': 'Nds commit...</td>\n",
       "      <td>1</td>\n",
       "    </tr>\n",
       "    <tr>\n",
       "      <th>286852</th>\n",
       "      <td>7e96c9d3377fdba82eca6f35613daa38</td>\n",
       "      <td>2021-07-03 00:21:56</td>\n",
       "      <td>OK</td>\n",
       "      <td>{'updateMethod': 'OTA', 'message': 'Nds commit...</td>\n",
       "      <td>1</td>\n",
       "    </tr>\n",
       "    <tr>\n",
       "      <th>286914</th>\n",
       "      <td>0078544ab68a7060407f9405e75e8b06</td>\n",
       "      <td>2021-07-22 18:06:41</td>\n",
       "      <td>OK</td>\n",
       "      <td>{'updateMethod': 'OTA', 'message': 'Nds commit...</td>\n",
       "      <td>1</td>\n",
       "    </tr>\n",
       "  </tbody>\n",
       "</table>\n",
       "<p>242 rows × 5 columns</p>\n",
       "</div>"
      ],
      "text/plain": [
       "                                     vin            timestamp status  \\\n",
       "674     9917e48c9cb7f86f86c035c1e2f025d7  2021-07-11 21:35:47     OK   \n",
       "1107    6fefa67e6cb7dcbf4e25ad9cef43cb0b  2021-07-24 17:36:37     OK   \n",
       "3321    8e1fb48db7f9b048d97417b3d3b2d3eb  2021-07-03 22:50:28     OK   \n",
       "3566    a23adb8ffedb11b8ccf0ce4979d7a881  2021-07-09 14:31:01     OK   \n",
       "4445    83654e82edbf19228a013c44158cb2e5  2021-07-22 20:47:29     OK   \n",
       "...                                  ...                  ...    ...   \n",
       "281100  fc0816527e2c73ea73657f0134575fe5  2021-07-08 09:21:20     OK   \n",
       "282585  e8c373b2608b7eb624ae91a65f517209  2021-07-10 18:04:09     OK   \n",
       "286348  b9d92a7204003141ca7e9e7ffbef9c8e  2021-07-16 13:25:05     OK   \n",
       "286852  7e96c9d3377fdba82eca6f35613daa38  2021-07-03 00:21:56     OK   \n",
       "286914  0078544ab68a7060407f9405e75e8b06  2021-07-22 18:06:41     OK   \n",
       "\n",
       "                                                     logs  marked  \n",
       "674     {'updateMethod': 'OTA', 'message': 'Nds commit...       1  \n",
       "1107    {'updateMethod': 'OTA', 'message': 'Nds commit...       1  \n",
       "3321    {'updateMethod': 'OTA', 'message': 'Nds commit...       1  \n",
       "3566    {'updateMethod': 'OTA', 'message': 'Nds commit...       1  \n",
       "4445    {'updateMethod': 'OTA', 'message': 'Nds commit...       1  \n",
       "...                                                   ...     ...  \n",
       "281100  {'updateMethod': 'OTA', 'message': 'Nds commit...       1  \n",
       "282585  {'updateMethod': 'OTA', 'message': 'Nds commit...       1  \n",
       "286348  {'updateMethod': 'OTA', 'message': 'Nds commit...       1  \n",
       "286852  {'updateMethod': 'OTA', 'message': 'Nds commit...       1  \n",
       "286914  {'updateMethod': 'OTA', 'message': 'Nds commit...       1  \n",
       "\n",
       "[242 rows x 5 columns]"
      ]
     },
     "execution_count": 303,
     "metadata": {},
     "output_type": "execute_result"
    }
   ],
   "source": [
    "df2[df2['marked'] == 1]"
   ]
  },
  {
   "cell_type": "code",
   "execution_count": 304,
   "id": "46d2dc1e",
   "metadata": {
    "scrolled": false
   },
   "outputs": [],
   "source": [
    "df2 = df2[df2['marked'] == 1]"
   ]
  },
  {
   "cell_type": "code",
   "execution_count": 281,
   "id": "25a4221a",
   "metadata": {},
   "outputs": [],
   "source": [
    "df2.to_csv(\"test-output-data-with-correct-status.csv\", mode='a', index= False)"
   ]
  },
  {
   "cell_type": "code",
   "execution_count": null,
   "id": "ee40cc0b",
   "metadata": {},
   "outputs": [],
   "source": []
  }
 ],
 "metadata": {
  "kernelspec": {
   "display_name": "Python 3 (ipykernel)",
   "language": "python",
   "name": "python3"
  },
  "language_info": {
   "codemirror_mode": {
    "name": "ipython",
    "version": 3
   },
   "file_extension": ".py",
   "mimetype": "text/x-python",
   "name": "python",
   "nbconvert_exporter": "python",
   "pygments_lexer": "ipython3",
   "version": "3.9.6"
  }
 },
 "nbformat": 4,
 "nbformat_minor": 5
}
